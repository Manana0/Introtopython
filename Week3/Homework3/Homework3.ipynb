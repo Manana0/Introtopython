{
 "cells": [
  {
   "cell_type": "markdown",
   "metadata": {},
   "source": [
    "# Lists"
   ]
  },
  {
   "cell_type": "code",
   "execution_count": 72,
   "metadata": {},
   "outputs": [
    {
     "name": "stdout",
     "output_type": "stream",
     "text": [
      "7 -2\n",
      "[7, 5]\n",
      "[5, 4, 1, 0]\n",
      "[8, 7, 1, 0, -1, -2]\n",
      "[4, 5, 7, 'Lemon', 'Broccoli', 'Carrot']\n"
     ]
    }
   ],
   "source": [
    "a=[ 1, 4, 5, 7, 8, -2, 0, -1 ]\n",
    "print(a[3],a[5])\n",
    "a_sorted=a.copy()\n",
    "a_sorted.sort(reverse= True)\n",
    "print(a_sorted[1:3])\n",
    "print(a_sorted[2:6])\n",
    "del a_sorted[2:4]\n",
    "print(a_sorted)\n",
    "\n",
    "b=[ \"grapes\", \"Potatoes\", \"tomatoes\", \"Orange\", \"Lemon\", \"Broccoli\", \"Carrot\", \"Sausages\"]\n",
    "b_sorted=b.copy()\n",
    "b_sorted.sort()\n",
    "c = list()\n",
    "c += a[1:4] + b[4:7]\n",
    "print(c)\n"
   ]
  },
  {
   "cell_type": "markdown",
   "metadata": {},
   "source": [
    "# Sets"
   ]
  },
  {
   "cell_type": "code",
   "execution_count": 73,
   "metadata": {},
   "outputs": [
    {
     "name": "stdout",
     "output_type": "stream",
     "text": [
      "{'Chocolate', True, False, 'Cookies', 8, 10, 'Milk', 14, 'Kit-kat', 'Oreo', -5, 'Jelly', -3}\n",
      "{'Chocolate', True, False, 'Cookies', 8, 10, 'Milk', 14, 'Kit-kat', 'Oreo', -5, 'Jelly', -3}\n",
      "{'Chocolate', True, False, 'Cookies', 8, 10, 'Milk', 14, 'Kit-kat', -5, 'Jelly', -3}\n"
     ]
    }
   ],
   "source": [
    "lista1=[ \"Cookies\", \"Chocolate\", 8, True, -3, -5, \"Chocolate\", 8, False, 8 ]\n",
    "listb2= [8, True, 10, 14, \"Chocolate\", \"Milk\", \"Jelly\", True, False, True ]\n",
    "set_a = set(lista1)\n",
    "set_b = set(listb2)\n",
    "union_ab= set_a.union(set_b)\n",
    "intersection_ab=set_a.intersection(set_b)\n",
    "union_ab.add(\"Kit-kat\") \n",
    "union_ab.add(\"Oreo\")\n",
    "print(union_ab)\n",
    "new_set=union_ab|intersection_ab\n",
    "print(new_set)\n",
    "'Chocolate' in new_set\n",
    "new_set.remove(\"Oreo\")\n",
    "print(new_set)"
   ]
  },
  {
   "cell_type": "markdown",
   "metadata": {},
   "source": [
    "# Tuples"
   ]
  },
  {
   "cell_type": "code",
   "execution_count": 85,
   "metadata": {},
   "outputs": [
    {
     "name": "stdout",
     "output_type": "stream",
     "text": [
      "(True, 'a', -2, 'Anna')\n",
      "(1, True, 1, 2, 3)\n",
      "3\n"
     ]
    }
   ],
   "source": [
    "t1= (1, True, \"a\", -2, \"Anna\")\n",
    "list_t1=list(t1)\n",
    "list_t1.remove(True)\n",
    "new_t1=tuple(list_t1)\n",
    "print(new_t1)\n",
    "t2= (1,2,3,4,5)\n",
    "t3= (t1[:2]+t2[:3])\n",
    "print(t3)\n",
    "t4= [(1,3,5), (8,9), (\"Anna\", \"Bob\", \"Alice\")]\n",
    "print(t4[0][1])"
   ]
  },
  {
   "cell_type": "markdown",
   "metadata": {},
   "source": [
    "# Dictionaries"
   ]
  },
  {
   "cell_type": "code",
   "execution_count": 129,
   "metadata": {},
   "outputs": [
    {
     "name": "stdout",
     "output_type": "stream",
     "text": [
      "{'dairy': ['yogurt', 'cheese'], 'fruits': ['banana', 'apple', 'orange', 'lemon', 'apple', 'banana', 'banana'], 'candies': ['mars', 'kinder', 'twix']}\n"
     ]
    },
    {
     "data": {
      "text/plain": [
       "{'dairy': ['yogurt', 'cheese'],\n",
       " 'fruits': {'apple', 'banana', 'lemon', 'orange'},\n",
       " 'candies': ['mars', 'kinder', 'twix']}"
      ]
     },
     "execution_count": 129,
     "metadata": {},
     "output_type": "execute_result"
    }
   ],
   "source": [
    "market=  {'dairy': ['yogurt', 'cheese'], 'fruits': ['banana', 'apple', 'orange', 'lemon', 'apple', 'banana', 'banana']}\n",
    "market['candies']=['mars', 'kinder', 'twix']\n",
    "print(market)\n",
    "market_new=market.copy()\n",
    "market_new['fruits'].sort()\n",
    "s=set(market_new['fruits'])\n",
    "market_new['fruits']=s\n",
    "market_new"
   ]
  }
 ],
 "metadata": {
  "kernelspec": {
   "display_name": "Python 3",
   "language": "python",
   "name": "python3"
  },
  "language_info": {
   "codemirror_mode": {
    "name": "ipython",
    "version": 3
   },
   "file_extension": ".py",
   "mimetype": "text/x-python",
   "name": "python",
   "nbconvert_exporter": "python",
   "pygments_lexer": "ipython3",
   "version": "3.7.4"
  }
 },
 "nbformat": 4,
 "nbformat_minor": 2
}
