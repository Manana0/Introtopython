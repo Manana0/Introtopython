{
 "cells": [
  {
   "cell_type": "markdown",
   "metadata": {},
   "source": [
    "# Problem 1"
   ]
  },
  {
   "cell_type": "code",
   "execution_count": 11,
   "metadata": {},
   "outputs": [
    {
     "name": "stdout",
     "output_type": "stream",
     "text": [
      "Script name: Problem1w2.py\n",
      "Number of arguments: 3\n",
      "Argument values: ['1', 'asd', 'True']\n"
     ]
    }
   ],
   "source": [
    "run Problem1w2.py 1 \"asd\" True"
   ]
  },
  {
   "cell_type": "markdown",
   "metadata": {},
   "source": [
    "# Problem2"
   ]
  },
  {
   "cell_type": "code",
   "execution_count": 10,
   "metadata": {},
   "outputs": [
    {
     "name": "stdout",
     "output_type": "stream",
     "text": [
      "MAnana\n",
      "Welcome, MAnana!\n"
     ]
    }
   ],
   "source": [
    "run Problem2w2.py"
   ]
  },
  {
   "cell_type": "markdown",
   "metadata": {},
   "source": [
    "# Problem3"
   ]
  },
  {
   "cell_type": "code",
   "execution_count": 9,
   "metadata": {},
   "outputs": [
    {
     "name": "stdout",
     "output_type": "stream",
     "text": [
      "Welcome, Manana!\n"
     ]
    }
   ],
   "source": [
    "run Problem3w2.py Manana\n"
   ]
  },
  {
   "cell_type": "markdown",
   "metadata": {},
   "source": [
    "# Problem4\n"
   ]
  },
  {
   "cell_type": "code",
   "execution_count": 8,
   "metadata": {},
   "outputs": [
    {
     "name": "stdout",
     "output_type": "stream",
     "text": [
      "Happy birthday you are already 10 years old!\n"
     ]
    }
   ],
   "source": [
    "run Problem4w2.py --age=10"
   ]
  },
  {
   "cell_type": "markdown",
   "metadata": {},
   "source": [
    "# Problem5\n"
   ]
  },
  {
   "cell_type": "code",
   "execution_count": 6,
   "metadata": {},
   "outputs": [
    {
     "name": "stdout",
     "output_type": "stream",
     "text": [
      "Manana Aghikyan\n",
      "MANANA AGHIKYAN\n",
      "manana aghikyan\n"
     ]
    }
   ],
   "source": [
    "run Problem5w2.py \"Manana Aghikyan\""
   ]
  },
  {
   "cell_type": "markdown",
   "metadata": {},
   "source": [
    "# Problem6"
   ]
  },
  {
   "cell_type": "code",
   "execution_count": 4,
   "metadata": {},
   "outputs": [
    {
     "name": "stdout",
     "output_type": "stream",
     "text": [
      "manana\n",
      "manana\n",
      "Number of a:  3\n",
      "Number of b:  0\n",
      "Number of c:  0\n",
      "Number of d:  0\n",
      "Number of e:  0\n"
     ]
    }
   ],
   "source": [
    "run Problem6w2.py"
   ]
  },
  {
   "cell_type": "markdown",
   "metadata": {},
   "source": [
    "# Problem7"
   ]
  },
  {
   "cell_type": "code",
   "execution_count": 2,
   "metadata": {},
   "outputs": [
    {
     "name": "stdout",
     "output_type": "stream",
     "text": [
      "How are you Manana?\n",
      "How are you Manana?\n"
     ]
    }
   ],
   "source": [
    "run Problem7w2.py"
   ]
  },
  {
   "cell_type": "markdown",
   "metadata": {},
   "source": [
    "# Problem8"
   ]
  },
  {
   "cell_type": "code",
   "execution_count": 26,
   "metadata": {},
   "outputs": [
    {
     "name": "stdout",
     "output_type": "stream",
     "text": [
      "Hi, where are you from?\n",
      "I am from Armenia\n",
      "How long have you lived here?\n",
      "For 10 yeras\n"
     ]
    }
   ],
   "source": [
    "run Problem8w2.py"
   ]
  },
  {
   "cell_type": "markdown",
   "metadata": {},
   "source": [
    "# Problem9"
   ]
  },
  {
   "cell_type": "code",
   "execution_count": 32,
   "metadata": {},
   "outputs": [
    {
     "name": "stdout",
     "output_type": "stream",
     "text": [
      "The given text: MananaAghikyan\n",
      "start_index: 2\n",
      "end_index: 8\n",
      "nanaAg\n"
     ]
    }
   ],
   "source": [
    "run Problem9w2.py MananaAghikyan 2 8"
   ]
  },
  {
   "cell_type": "markdown",
   "metadata": {},
   "source": [
    "# Problem10 "
   ]
  },
  {
   "cell_type": "code",
   "execution_count": 57,
   "metadata": {},
   "outputs": [
    {
     "name": "stdout",
     "output_type": "stream",
     "text": [
      "Current time: 2019-11-02 20:24:55.136096\n",
      "Year:  2019\n",
      "Month:  11\n",
      "Day:  6\n",
      "2019-10-28 20:24:55.136096\n",
      "2019-11-07 20:24:55.136096\n"
     ]
    }
   ],
   "source": [
    "run Problem10w2.py"
   ]
  }
 ],
 "metadata": {
  "kernelspec": {
   "display_name": "Python 3",
   "language": "python",
   "name": "python3"
  },
  "language_info": {
   "codemirror_mode": {
    "name": "ipython",
    "version": 3
   },
   "file_extension": ".py",
   "mimetype": "text/x-python",
   "name": "python",
   "nbconvert_exporter": "python",
   "pygments_lexer": "ipython3",
   "version": "3.7.4"
  }
 },
 "nbformat": 4,
 "nbformat_minor": 2
}
