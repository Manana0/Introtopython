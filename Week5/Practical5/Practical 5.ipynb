{
 "cells": [
  {
   "cell_type": "markdown",
   "metadata": {},
   "source": [
    "# Function"
   ]
  },
  {
   "cell_type": "markdown",
   "metadata": {},
   "source": [
    "## Problem 1"
   ]
  },
  {
   "cell_type": "code",
   "execution_count": 2,
   "metadata": {},
   "outputs": [
    {
     "data": {
      "text/plain": [
       "3.0"
      ]
     },
     "execution_count": 2,
     "metadata": {},
     "output_type": "execute_result"
    }
   ],
   "source": [
    "def times(x,y,z):\n",
    "    a=(x+y+z)/3\n",
    "    return a\n",
    "times(2,3,4)"
   ]
  },
  {
   "cell_type": "markdown",
   "metadata": {},
   "source": [
    "## Problem 2"
   ]
  },
  {
   "cell_type": "code",
   "execution_count": 31,
   "metadata": {},
   "outputs": [
    {
     "data": {
      "text/plain": [
       "[2, 4]"
      ]
     },
     "execution_count": 31,
     "metadata": {},
     "output_type": "execute_result"
    }
   ],
   "source": [
    "def funceven(list1):\n",
    "    return [x for x in list1 if x%2==0]\n",
    "funceven([1,2,3,4])\n",
    "    "
   ]
  },
  {
   "cell_type": "markdown",
   "metadata": {},
   "source": [
    "## Problem 3"
   ]
  },
  {
   "cell_type": "code",
   "execution_count": 46,
   "metadata": {},
   "outputs": [
    {
     "name": "stdout",
     "output_type": "stream",
     "text": [
      "Enter your password:msnsnsnsnns33\n",
      "True\n"
     ]
    }
   ],
   "source": [
    "password=input(\"Enter your password:\")\n",
    "passlen=len(password)\n",
    "def function(key):\n",
    "    if passlen>10 or passlen==10:\n",
    "        print(\"True\")\n",
    "    elif len([x for x in password if x.isdigit()]) > 2:\n",
    "        print(\"True\")\n",
    "    else: print(\"Wrong\")\n",
    "function(password)\n",
    "   \n",
    "        "
   ]
  },
  {
   "cell_type": "markdown",
   "metadata": {},
   "source": [
    "## Problem 4"
   ]
  },
  {
   "cell_type": "code",
   "execution_count": 63,
   "metadata": {},
   "outputs": [
    {
     "name": "stdout",
     "output_type": "stream",
     "text": [
      "Manana, Welcome to our company!\n"
     ]
    }
   ],
   "source": [
    "def requiredArg(name, greeting=\"Welcome to our company!\"):\n",
    "    print(name+\",\",greeting)\n",
    "requiredArg(\"Manana\")\n"
   ]
  },
  {
   "cell_type": "markdown",
   "metadata": {},
   "source": [
    "## Problem 5\n"
   ]
  },
  {
   "cell_type": "code",
   "execution_count": 68,
   "metadata": {},
   "outputs": [
    {
     "name": "stdout",
     "output_type": "stream",
     "text": [
      "No grades available for Manana\n"
     ]
    }
   ],
   "source": [
    "def function(name, *argv):\n",
    "    if len(argv)>0 and isinstance(name,str):\n",
    "        a=sum(argv)/len(argv)\n",
    "        print(name, \"your average grade is\" ,a)\n",
    "    else:\n",
    "        print(\"No grades available for\",name)\n",
    "function(\"Manana\")"
   ]
  },
  {
   "cell_type": "markdown",
   "metadata": {},
   "source": [
    "## Problem 6"
   ]
  },
  {
   "cell_type": "code",
   "execution_count": 89,
   "metadata": {},
   "outputs": [
    {
     "name": "stdout",
     "output_type": "stream",
     "text": [
      "argument1: 1\n",
      "argumnet2: 2\n",
      "argument3: 3\n"
     ]
    }
   ],
   "source": [
    "def function(user, **kwargs):\n",
    "    if user==\"admin\" and isinstance(user,str):\n",
    "        for x,y in kwargs.items():\n",
    "            print(x+\":\",y)\n",
    "    else:\n",
    "        print(\"access denied to the\",user)\n",
    "function(\"admin\",argument1=1,argumnet2=2,argument3=3)\n",
    "    "
   ]
  },
  {
   "cell_type": "markdown",
   "metadata": {},
   "source": [
    "# Modules "
   ]
  },
  {
   "cell_type": "markdown",
   "metadata": {},
   "source": [
    "## Problem 7"
   ]
  },
  {
   "cell_type": "code",
   "execution_count": 18,
   "metadata": {},
   "outputs": [
    {
     "name": "stdout",
     "output_type": "stream",
     "text": [
      "Result: 4\n",
      "The result of the operation is 64\n"
     ]
    }
   ],
   "source": [
    "run calc.py"
   ]
  },
  {
   "cell_type": "markdown",
   "metadata": {},
   "source": [
    "# Decorators"
   ]
  },
  {
   "cell_type": "markdown",
   "metadata": {},
   "source": [
    "## Problem 8"
   ]
  },
  {
   "cell_type": "code",
   "execution_count": 11,
   "metadata": {},
   "outputs": [
    {
     "name": "stdout",
     "output_type": "stream",
     "text": [
      "['Anna', 'Edgar']\n",
      "['Anna', 'Edgar', 'Manana', 'Ana']\n"
     ]
    }
   ],
   "source": [
    "list1= [\"Anna\",\"Edgar\"]\n",
    "list2= [\"Manana\", \"Ana\",\"Anna\"]\n",
    "\n",
    "def decorator(func):\n",
    "    def inner(*args):\n",
    "        print(list1)\n",
    "        func(*args)\n",
    "        print(list1)\n",
    "    return inner\n",
    "\n",
    "@decorator\n",
    "def add_values(list2):\n",
    "    for x in list2:\n",
    "        if x not in list1:\n",
    "            list1.append(x)\n",
    "\n",
    "add_values(list2)        "
   ]
  },
  {
   "cell_type": "markdown",
   "metadata": {},
   "source": [
    "## Problem 9"
   ]
  },
  {
   "cell_type": "code",
   "execution_count": 6,
   "metadata": {},
   "outputs": [
    {
     "data": {
      "text/plain": [
       "'Hi everyone!!! Welcome to the party'"
      ]
     },
     "execution_count": 6,
     "metadata": {},
     "output_type": "execute_result"
    }
   ],
   "source": [
    "def decor1(func):\n",
    "    def inner(*args):\n",
    "        return func().lower().capitalize() \n",
    "    return inner\n",
    "\n",
    "def decor2(func):\n",
    "    def inner(*args):\n",
    "        return func() + \"!!! Welcome to the party\"\n",
    "    return inner\n",
    "@decor2\n",
    "@decor1\n",
    "def func1():\n",
    "    return \"HI EVERYONE\"\n",
    "func1()"
   ]
  },
  {
   "cell_type": "markdown",
   "metadata": {},
   "source": [
    "# Generators"
   ]
  },
  {
   "cell_type": "markdown",
   "metadata": {},
   "source": [
    "## Problem 10"
   ]
  },
  {
   "cell_type": "code",
   "execution_count": 34,
   "metadata": {},
   "outputs": [
    {
     "name": "stdout",
     "output_type": "stream",
     "text": [
      "<generator object list_func at 0x00000166A1CBAC48>\n"
     ]
    }
   ],
   "source": [
    "\n",
    "def  list_func(list1):\n",
    "    for i in list1:\n",
    "        yield (i)\n",
    "mylist=list_func([1,2,3,4])\n",
    "print(mylist)\n",
    "\n"
   ]
  },
  {
   "cell_type": "code",
   "execution_count": 36,
   "metadata": {},
   "outputs": [
    {
     "data": {
      "text/plain": [
       "2"
      ]
     },
     "execution_count": 36,
     "metadata": {},
     "output_type": "execute_result"
    }
   ],
   "source": [
    "next(mylist)"
   ]
  },
  {
   "cell_type": "markdown",
   "metadata": {},
   "source": [
    "## Problem 11"
   ]
  },
  {
   "cell_type": "code",
   "execution_count": 45,
   "metadata": {},
   "outputs": [
    {
     "name": "stdout",
     "output_type": "stream",
     "text": [
      "<generator object iter_num at 0x00000166A1CF8048>\n"
     ]
    }
   ],
   "source": [
    "def  iter_num(n):\n",
    "    for i in range(1,n+1):\n",
    "        yield(i) \n",
    "num=iter_num(5)\n",
    "print(num)"
   ]
  },
  {
   "cell_type": "markdown",
   "metadata": {},
   "source": [
    "## Problem 12"
   ]
  },
  {
   "cell_type": "code",
   "execution_count": 48,
   "metadata": {},
   "outputs": [],
   "source": [
    "def power(max):\n",
    "    for x in range(max + 1):\n",
    "        yield 2**x\n",
    "        \n",
    "num = power(5)"
   ]
  },
  {
   "cell_type": "code",
   "execution_count": 50,
   "metadata": {},
   "outputs": [
    {
     "data": {
      "text/plain": [
       "2"
      ]
     },
     "execution_count": 50,
     "metadata": {},
     "output_type": "execute_result"
    }
   ],
   "source": [
    "next(num)"
   ]
  }
 ],
 "metadata": {
  "kernelspec": {
   "display_name": "Python 3",
   "language": "python",
   "name": "python3"
  },
  "language_info": {
   "codemirror_mode": {
    "name": "ipython",
    "version": 3
   },
   "file_extension": ".py",
   "mimetype": "text/x-python",
   "name": "python",
   "nbconvert_exporter": "python",
   "pygments_lexer": "ipython3",
   "version": "3.7.4"
  }
 },
 "nbformat": 4,
 "nbformat_minor": 2
}
