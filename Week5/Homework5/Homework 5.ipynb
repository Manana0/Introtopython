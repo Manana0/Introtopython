{
 "cells": [
  {
   "cell_type": "markdown",
   "metadata": {},
   "source": [
    "## Problem 1\n"
   ]
  },
  {
   "cell_type": "code",
   "execution_count": 4,
   "metadata": {},
   "outputs": [
    {
     "name": "stdout",
     "output_type": "stream",
     "text": [
      "56\n"
     ]
    }
   ],
   "source": [
    "def max(*args):\n",
    "    if len(args) > 0:\n",
    "        num=list(args)\n",
    "        num.sort()\n",
    "        return num[-1]\n",
    "    else:\n",
    "        return \"no numbers given!\"\n",
    "\n",
    "print(max(4,56,6,8,9))"
   ]
  },
  {
   "cell_type": "markdown",
   "metadata": {},
   "source": [
    "## Problem 2"
   ]
  },
  {
   "cell_type": "code",
   "execution_count": 12,
   "metadata": {},
   "outputs": [
    {
     "data": {
      "text/plain": [
       "[1, 2, 3, 4]"
      ]
     },
     "execution_count": 12,
     "metadata": {},
     "output_type": "execute_result"
    }
   ],
   "source": [
    "def function(list1):\n",
    "    new = []\n",
    "    for i in list1:\n",
    "        if i not in new:\n",
    "            new.append(i)\n",
    "    return new\n",
    "function([1,2,3,3,4,4])\n",
    "\n",
    "\n",
    "    "
   ]
  },
  {
   "cell_type": "markdown",
   "metadata": {},
   "source": [
    "## Problem 3"
   ]
  },
  {
   "cell_type": "code",
   "execution_count": 11,
   "metadata": {},
   "outputs": [
    {
     "name": "stdout",
     "output_type": "stream",
     "text": [
      "Before function call\n",
      "Inside the function\n",
      "After the function call\n"
     ]
    }
   ],
   "source": [
    "def decorator(func):\n",
    "    def inner(*args):\n",
    "        print(\"Before function call\")\n",
    "        print(func(*args))\n",
    "        print(\"After the function call\")\n",
    "    return inner\n",
    "\n",
    "\n",
    "@decorator\n",
    "def function():\n",
    "    return \"Inside the function\"\n",
    "\n",
    "function()"
   ]
  },
  {
   "cell_type": "markdown",
   "metadata": {},
   "source": [
    "## Problem 4"
   ]
  },
  {
   "cell_type": "code",
   "execution_count": 18,
   "metadata": {},
   "outputs": [
    {
     "data": {
      "text/plain": [
       "'<u>Hi, it’s me!</u>'"
      ]
     },
     "execution_count": 18,
     "metadata": {},
     "output_type": "execute_result"
    }
   ],
   "source": [
    "def decorator(func):\n",
    "    def inner(*args):\n",
    "        return func() + \", it’s me!\"\n",
    "    return inner\n",
    "\n",
    "def dec(func):\n",
    "    def inner(*args):\n",
    "        return \"<u>\"+ func()+\"</u>\"\n",
    "    return inner\n",
    "@dec\n",
    "@decorator\n",
    "def function():\n",
    "    return \"Hi\"\n",
    "function()"
   ]
  },
  {
   "cell_type": "markdown",
   "metadata": {},
   "source": [
    "## Problem 5"
   ]
  },
  {
   "cell_type": "code",
   "execution_count": 58,
   "metadata": {},
   "outputs": [],
   "source": [
    "def my_range(n):\n",
    "    for i in range(1,n+2):\n",
    "        if i==n+1:\n",
    "            yield(\"there are no values left\")\n",
    "        else:\n",
    "            yield(i)\n",
    "        \n",
    "value=my_range(5)"
   ]
  },
  {
   "cell_type": "code",
   "execution_count": 64,
   "metadata": {},
   "outputs": [
    {
     "data": {
      "text/plain": [
       "'there are no values left'"
      ]
     },
     "execution_count": 64,
     "metadata": {},
     "output_type": "execute_result"
    }
   ],
   "source": [
    "next(value)"
   ]
  },
  {
   "cell_type": "markdown",
   "metadata": {},
   "source": [
    "## Problem 6"
   ]
  },
  {
   "cell_type": "code",
   "execution_count": 15,
   "metadata": {},
   "outputs": [],
   "source": [
    "run customer.py"
   ]
  },
  {
   "cell_type": "code",
   "execution_count": null,
   "metadata": {},
   "outputs": [],
   "source": []
  }
 ],
 "metadata": {
  "kernelspec": {
   "display_name": "Python 3",
   "language": "python",
   "name": "python3"
  },
  "language_info": {
   "codemirror_mode": {
    "name": "ipython",
    "version": 3
   },
   "file_extension": ".py",
   "mimetype": "text/x-python",
   "name": "python",
   "nbconvert_exporter": "python",
   "pygments_lexer": "ipython3",
   "version": "3.7.4"
  }
 },
 "nbformat": 4,
 "nbformat_minor": 2
}
