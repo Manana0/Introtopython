{
 "cells": [
  {
   "cell_type": "markdown",
   "metadata": {},
   "source": [
    "# Problem 1\n"
   ]
  },
  {
   "cell_type": "code",
   "execution_count": 57,
   "metadata": {},
   "outputs": [
    {
     "name": "stdout",
     "output_type": "stream",
     "text": [
      "False\n",
      "True\n",
      "True\n",
      "False\n"
     ]
    }
   ],
   "source": [
    "project= \"cake\"\n",
    "difficulty= 5\n",
    "ingredients= [\"flour\", \"butter\", \"sugar\", \"eggs\", \"cocoa powder\", \"baking powder\"]\n",
    "print (\"apples\" in ingredients)\n",
    "print (\"butter\" in ingredients)\n",
    "print ((\"eggs\" in ingredients) or (\"margarine\" in ingredients))\n",
    "print ((\"eggs\" in ingredients) and (\"margarine\" in ingredients))"
   ]
  },
  {
   "cell_type": "code",
   "execution_count": 53,
   "metadata": {},
   "outputs": [
    {
     "name": "stdout",
     "output_type": "stream",
     "text": [
      "flour- 175g\n",
      "butter- 175g\n",
      "sugar- 100g\n",
      "eggs- 2pieces\n",
      "cocoa_powder- 1ts\n",
      "baking_powder- 0.5ts\n"
     ]
    }
   ],
   "source": [
    "flour= \"175\"\n",
    "butter= \"175\"\n",
    "sugar= \"100g\"\n",
    "eggs= \"2\"\n",
    "cocoa_powder= \"1ts\"\n",
    "baking_powder= \"0.5\"\n",
    "print (\"flour\" + \"-\" + \" \" + flour + \"g\")\n",
    "print (\"butter\" + \"-\" + \" \" + butter + \"g\")\n",
    "print (\"sugar\" + \"-\" + \" \" + sugar)\n",
    "print (\"eggs\" + \"-\" + \" \" + eggs + \"pieces\")\n",
    "print (\"cocoa_powder\" + \"-\" + \" \" + cocoa_powder)\n",
    "print (\"baking_powder\" + \"-\" + \" \" + baking_powder + \"ts\")\n"
   ]
  },
  {
   "cell_type": "markdown",
   "metadata": {},
   "source": [
    "# Problem 3"
   ]
  },
  {
   "cell_type": "code",
   "execution_count": 2,
   "metadata": {},
   "outputs": [
    {
     "name": "stdout",
     "output_type": "stream",
     "text": [
      "1003.0\n"
     ]
    }
   ],
   "source": [
    "a= 15\n",
    "b= 8\n",
    "c= 2\n",
    "print (5*a**2 - a*b + a%2 - a/5)\n"
   ]
  },
  {
   "cell_type": "code",
   "execution_count": 3,
   "metadata": {},
   "outputs": [
    {
     "name": "stdout",
     "output_type": "stream",
     "text": [
      "852\n"
     ]
    }
   ],
   "source": [
    "print(b**3 + 3*a*b - 10*c)"
   ]
  },
  {
   "cell_type": "markdown",
   "metadata": {},
   "source": [
    "# Problem 4"
   ]
  },
  {
   "cell_type": "code",
   "execution_count": 9,
   "metadata": {},
   "outputs": [
    {
     "name": "stdout",
     "output_type": "stream",
     "text": [
      "30\n",
      "30\n",
      "30 is even\n"
     ]
    }
   ],
   "source": [
    "mynumber= int(input())\n",
    "print (mynumber)\n",
    "c= str(mynumber)\n",
    "if (mynumber%2)==0:\n",
    "    print (c + \" \" + \"is even\")\n",
    "else:\n",
    "    print(c + \" \" + \"is odd\")"
   ]
  },
  {
   "cell_type": "code",
   "execution_count": null,
   "metadata": {},
   "outputs": [],
   "source": []
  }
 ],
 "metadata": {
  "kernelspec": {
   "display_name": "Python 3",
   "language": "python",
   "name": "python3"
  },
  "language_info": {
   "codemirror_mode": {
    "name": "ipython",
    "version": 3
   },
   "file_extension": ".py",
   "mimetype": "text/x-python",
   "name": "python",
   "nbconvert_exporter": "python",
   "pygments_lexer": "ipython3",
   "version": "3.7.4"
  }
 },
 "nbformat": 4,
 "nbformat_minor": 2
}
