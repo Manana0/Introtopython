{
 "cells": [
  {
   "cell_type": "markdown",
   "metadata": {},
   "source": [
    "# Conditionals"
   ]
  },
  {
   "cell_type": "markdown",
   "metadata": {},
   "source": [
    "## Problem 1"
   ]
  },
  {
   "cell_type": "code",
   "execution_count": 18,
   "metadata": {},
   "outputs": [
    {
     "name": "stdout",
     "output_type": "stream",
     "text": [
      "2 3\n",
      "The number 3 is the greatest\n"
     ]
    }
   ],
   "source": [
    "n1,n2 =input().split(' ')\n",
    "n1 = int(n1); n2 = int(n2)\n",
    "\n",
    "if n1>n2:\n",
    "\tprint(\"The number\",n1,\"is the greatest\")\n",
    "else:\n",
    "\tprint(\"The number\",n2,\"is the greatest\")"
   ]
  },
  {
   "cell_type": "markdown",
   "metadata": {},
   "source": [
    "## Problem 2"
   ]
  },
  {
   "cell_type": "code",
   "execution_count": 16,
   "metadata": {},
   "outputs": [
    {
     "name": "stdout",
     "output_type": "stream",
     "text": [
      "rectangle\n"
     ]
    }
   ],
   "source": [
    "a=5\n",
    "b=4\n",
    "if a==b:\n",
    "    print(\"square\")\n",
    "else:\n",
    "    print(\"rectangle\")"
   ]
  },
  {
   "cell_type": "markdown",
   "metadata": {},
   "source": [
    "## Problem 3"
   ]
  },
  {
   "cell_type": "code",
   "execution_count": 27,
   "metadata": {},
   "outputs": [
    {
     "name": "stdout",
     "output_type": "stream",
     "text": [
      "Dear Ann you are too young to register\n",
      "Please enter a different password\n"
     ]
    }
   ],
   "source": [
    "name= \"Ann\"\n",
    "age= 12\n",
    "password= \"apple\"\n",
    "if name==\"Batman\":\n",
    "    print(\"Welcome Mr.\",name)\n",
    "if age<16:\n",
    "    print(\"Dear\",name, \"you are too young to register\")\n",
    "if password.find(\"*\") == -1 and password.find(\"&\") == -1:\n",
    "    print(\"Please enter a different password\")"
   ]
  },
  {
   "cell_type": "markdown",
   "metadata": {},
   "source": [
    "## Problem 4"
   ]
  },
  {
   "cell_type": "code",
   "execution_count": 29,
   "metadata": {},
   "outputs": [
    {
     "name": "stdout",
     "output_type": "stream",
     "text": [
      "Please input number: 4\n"
     ]
    }
   ],
   "source": [
    "d= {\"name\": \"Armen\", \"age\": 15, \"grades\": [10, 8, 8, 4, 6, 7]}\n",
    "if 'weight' in d:\n",
    "    print(d['weight'])\n",
    "else:\n",
    "    d['weight'] = input(\"Please input number: \")"
   ]
  },
  {
   "cell_type": "markdown",
   "metadata": {},
   "source": [
    "# Loops"
   ]
  },
  {
   "cell_type": "markdown",
   "metadata": {},
   "source": [
    "## Problem 5"
   ]
  },
  {
   "cell_type": "code",
   "execution_count": null,
   "metadata": {},
   "outputs": [],
   "source": [
    "for i in range(0,101):\n",
    "    if i % 2 == 1:\n",
    "        print(i)"
   ]
  },
  {
   "cell_type": "markdown",
   "metadata": {},
   "source": [
    "## Problem 6"
   ]
  },
  {
   "cell_type": "code",
   "execution_count": 42,
   "metadata": {},
   "outputs": [
    {
     "name": "stdout",
     "output_type": "stream",
     "text": [
      "0\n",
      "1\n",
      "3\n",
      "5\n",
      "6\n"
     ]
    }
   ],
   "source": [
    "for i in range(7):\n",
    "    if i==2 or i==4:\n",
    "        continue\n",
    "    print(i)"
   ]
  },
  {
   "cell_type": "markdown",
   "metadata": {},
   "source": [
    "## Problem 7"
   ]
  },
  {
   "cell_type": "code",
   "execution_count": 44,
   "metadata": {},
   "outputs": [
    {
     "name": "stdout",
     "output_type": "stream",
     "text": [
      "15\n"
     ]
    }
   ],
   "source": [
    "for i in range(1,21):\n",
    "    if i%3==0 and i%5==0:\n",
    "        print(i)\n",
    "        break"
   ]
  },
  {
   "cell_type": "markdown",
   "metadata": {},
   "source": [
    "## Problem 8"
   ]
  },
  {
   "cell_type": "code",
   "execution_count": 56,
   "metadata": {},
   "outputs": [
    {
     "name": "stdout",
     "output_type": "stream",
     "text": [
      "5\n",
      "7\n",
      "-7\n",
      "abc\n",
      "2\n",
      "4\n",
      "True\n",
      "3\n"
     ]
    }
   ],
   "source": [
    "list1 = [5, 7, -7, 'abc', 2, 4, True, 3, 4, 6, 7, 7]\n",
    "for i in list1:\n",
    "    print(i)\n",
    "    if i==3:\n",
    "        break\n",
    "        "
   ]
  },
  {
   "cell_type": "markdown",
   "metadata": {},
   "source": [
    "## Problem 9"
   ]
  },
  {
   "cell_type": "code",
   "execution_count": 65,
   "metadata": {},
   "outputs": [
    {
     "name": "stdout",
     "output_type": "stream",
     "text": [
      "Guess the numner:4\n",
      "Guess the numner:5\n",
      "That was a good guess!\n"
     ]
    }
   ],
   "source": [
    "correct_num = 5\n",
    "guess=int(input(\"Guess the numner:\"))\n",
    "for i in range(10):\n",
    "    if guess == correct_num:\n",
    "        print(\"That was a good guess!\")\n",
    "        break\n",
    "    else:\n",
    "        guess = int(input(\"Guess the numner:\"))"
   ]
  },
  {
   "cell_type": "markdown",
   "metadata": {},
   "source": [
    "# List comprehension "
   ]
  },
  {
   "cell_type": "markdown",
   "metadata": {},
   "source": [
    "## Problem 10"
   ]
  },
  {
   "cell_type": "code",
   "execution_count": 67,
   "metadata": {},
   "outputs": [
    {
     "name": "stdout",
     "output_type": "stream",
     "text": [
      "[8, 120, 44, 20]\n",
      "[7, 8, 120, 25, 44, 20, 27]\n"
     ]
    }
   ],
   "source": [
    "num= [7,8, 120, 25, 44, 20, 27]\n",
    "evens=[]\n",
    "for i in num:\n",
    "    if i%2==0:\n",
    "        evens.append(i)\n",
    "print(evens)\n",
    "print(num)\n"
   ]
  },
  {
   "cell_type": "markdown",
   "metadata": {},
   "source": [
    "## Problem 11"
   ]
  },
  {
   "cell_type": "code",
   "execution_count": null,
   "metadata": {},
   "outputs": [],
   "source": [
    "list3 = [x**2 for x in range(51)]\n",
    "list3"
   ]
  },
  {
   "cell_type": "markdown",
   "metadata": {},
   "source": [
    "## Problem 12"
   ]
  },
  {
   "cell_type": "code",
   "execution_count": 3,
   "metadata": {},
   "outputs": [
    {
     "name": "stdout",
     "output_type": "stream",
     "text": [
      "[2, 3, 4, 25, 6, 33, 8, 9, 3, 5, 7]\n",
      "[25, 33]\n"
     ]
    }
   ],
   "source": [
    "list1=[2,3,4,25,6,33,8,9,3,5,7]\n",
    "list2=[]\n",
    "for i in list1:\n",
    "    if i>20:\n",
    "        list2.append(i)\n",
    "print(list1)\n",
    "print(list2)"
   ]
  },
  {
   "cell_type": "markdown",
   "metadata": {},
   "source": [
    "## Problem 13"
   ]
  },
  {
   "cell_type": "code",
   "execution_count": 5,
   "metadata": {},
   "outputs": [
    {
     "name": "stdout",
     "output_type": "stream",
     "text": [
      "Manana\n",
      "['M', 'a', 'n', 'a', 'n', 'a']\n"
     ]
    }
   ],
   "source": [
    "str1=input()\n",
    "l1=[]\n",
    "for i in str1:\n",
    "    l1.append(i)\n",
    "print(l1)\n",
    "    "
   ]
  },
  {
   "cell_type": "markdown",
   "metadata": {},
   "source": [
    "## Problem 14"
   ]
  },
  {
   "cell_type": "code",
   "execution_count": null,
   "metadata": {},
   "outputs": [],
   "source": []
  }
 ],
 "metadata": {
  "kernelspec": {
   "display_name": "Python 3",
   "language": "python",
   "name": "python3"
  },
  "language_info": {
   "codemirror_mode": {
    "name": "ipython",
    "version": 3
   },
   "file_extension": ".py",
   "mimetype": "text/x-python",
   "name": "python",
   "nbconvert_exporter": "python",
   "pygments_lexer": "ipython3",
   "version": "3.7.4"
  }
 },
 "nbformat": 4,
 "nbformat_minor": 2
}
