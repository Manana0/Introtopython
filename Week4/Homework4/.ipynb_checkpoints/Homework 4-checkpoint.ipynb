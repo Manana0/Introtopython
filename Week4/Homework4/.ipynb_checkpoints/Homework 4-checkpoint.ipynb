{
 "cells": [
  {
   "cell_type": "markdown",
   "metadata": {},
   "source": [
    "# Conditionals"
   ]
  },
  {
   "cell_type": "markdown",
   "metadata": {},
   "source": [
    "## Problem 1"
   ]
  },
  {
   "cell_type": "code",
   "execution_count": 2,
   "metadata": {},
   "outputs": [
    {
     "name": "stdout",
     "output_type": "stream",
     "text": [
      "2\n",
      "You don’t get a discount\n"
     ]
    }
   ],
   "source": [
    "n_shoes =int(input())\n",
    "price=100\n",
    "if n_shoes*price==1000:\n",
    "    print(\"You get a discount\")\n",
    "else:\n",
    "    print(\"You don’t get a discount\")"
   ]
  },
  {
   "cell_type": "markdown",
   "metadata": {},
   "source": [
    "## Problem 2"
   ]
  },
  {
   "cell_type": "code",
   "execution_count": null,
   "metadata": {},
   "outputs": [],
   "source": [
    "d={\"name\": \"Armen\", \"age\": 15, \"grades\": [10, 8, 8, 4, 6, 7]}\n",
    "\n",
    "if sum(d[\"grades\"]) / len(d[\"grades\"])>7:\n",
    "    print(\"Good job\")\n",
    "else:\n",
    "    print(\"You need to work more\")"
   ]
  },
  {
   "cell_type": "markdown",
   "metadata": {},
   "source": [
    "# Loops and loop control statements "
   ]
  },
  {
   "cell_type": "markdown",
   "metadata": {},
   "source": [
    "## Problem 3"
   ]
  },
  {
   "cell_type": "code",
   "execution_count": 14,
   "metadata": {},
   "outputs": [
    {
     "name": "stdout",
     "output_type": "stream",
     "text": [
      "1\n",
      "3\n",
      "5\n",
      "7\n",
      "9\n"
     ]
    }
   ],
   "source": [
    "for i in range(11):\n",
    "    if i % 2 == 0:\n",
    "        continue\n",
    "    print(i)"
   ]
  },
  {
   "cell_type": "markdown",
   "metadata": {},
   "source": [
    "## Problem 4"
   ]
  },
  {
   "cell_type": "code",
   "execution_count": 15,
   "metadata": {},
   "outputs": [
    {
     "name": "stdout",
     "output_type": "stream",
     "text": [
      "1\n",
      "3\n",
      "5\n",
      "7\n",
      "9\n"
     ]
    }
   ],
   "source": [
    "list1 = [1, 3, 5, 7, 9, 11, 13, 15]\n",
    "list2 = [4, 6, 14, 11, 8, 16]\n",
    "for i in list1:\n",
    "    if i in list2:\n",
    "        break\n",
    "    print(i)"
   ]
  },
  {
   "cell_type": "markdown",
   "metadata": {},
   "source": [
    "## Problem 5"
   ]
  },
  {
   "cell_type": "code",
   "execution_count": 23,
   "metadata": {},
   "outputs": [
    {
     "name": "stdout",
     "output_type": "stream",
     "text": [
      "f\n",
      "Please choose another desert:cookies\n",
      "Your desert will arrive in 10 minutes\n"
     ]
    }
   ],
   "source": [
    "menu=[\"ice cream\", \"chocolate\", \"apple crisp\", \"cookies\"]\n",
    "desert= input()\n",
    "while True:\n",
    "    if desert in menu:\n",
    "        print(\"Your desert will arrive in 10 minutes\")\n",
    "        break\n",
    "    else:\n",
    "        desert= input(\"Please choose another desert:\")"
   ]
  },
  {
   "cell_type": "markdown",
   "metadata": {},
   "source": [
    "# List comprehension"
   ]
  },
  {
   "cell_type": "markdown",
   "metadata": {},
   "source": [
    "## Problem 6"
   ]
  },
  {
   "cell_type": "code",
   "execution_count": 28,
   "metadata": {},
   "outputs": [
    {
     "name": "stdout",
     "output_type": "stream",
     "text": [
      "[9, 6]\n"
     ]
    },
    {
     "data": {
      "text/plain": [
       "2"
      ]
     },
     "execution_count": 28,
     "metadata": {},
     "output_type": "execute_result"
    }
   ],
   "source": [
    "list2=[22,43,5,65,9,33,4,5,6]\n",
    "list3=[]\n",
    "for i in list2:\n",
    "    if i>5 and i<10:\n",
    "        list3.append(i)\n",
    "print(list3)\n",
    "len(list3)\n",
    "\n",
    "        "
   ]
  },
  {
   "cell_type": "markdown",
   "metadata": {},
   "source": [
    "## Problem 7"
   ]
  },
  {
   "cell_type": "code",
   "execution_count": 29,
   "metadata": {},
   "outputs": [
    {
     "name": "stdout",
     "output_type": "stream",
     "text": [
      "[[10, 20, 40], [40, 50, 60], [70, 80, 90]]\n",
      "[[10, 20, 100], [40, 50, 100], [70, 80, 100]]\n"
     ]
    }
   ],
   "source": [
    "list4= [[10, 20, 40], [40, 50, 60], [70, 80, 90]]\n",
    "list5 = [i[0:len(i)-1] + [100] for i in list4]\n",
    "print(list4)\n",
    "print(list5)"
   ]
  }
 ],
 "metadata": {
  "kernelspec": {
   "display_name": "Python 3",
   "language": "python",
   "name": "python3"
  },
  "language_info": {
   "codemirror_mode": {
    "name": "ipython",
    "version": 3
   },
   "file_extension": ".py",
   "mimetype": "text/x-python",
   "name": "python",
   "nbconvert_exporter": "python",
   "pygments_lexer": "ipython3",
   "version": "3.7.4"
  }
 },
 "nbformat": 4,
 "nbformat_minor": 2
}
